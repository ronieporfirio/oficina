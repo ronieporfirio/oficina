{
 "cells": [
  {
   "cell_type": "code",
   "execution_count": 1,
   "metadata": {},
   "outputs": [
    {
     "name": "stdout",
     "output_type": "stream",
     "text": [
      "Populating the interactive namespace from numpy and matplotlib\n"
     ]
    }
   ],
   "source": [
    "# Importando as bibliotecas:\n",
    "import pandas as pd\n",
    "%matplotlib inline\n",
    "%pylab inline\n",
    "import matplotlib.pyplot as plt\n",
    "import seaborn as sns\n",
    "plt.style.use('ggplot')"
   ]
  },
  {
   "cell_type": "code",
   "execution_count": 45,
   "metadata": {},
   "outputs": [],
   "source": [
    "df = pd.read_csv('natalidade-2-2017.csv',sep=';',encoding='latin1')"
   ]
  },
  {
   "cell_type": "code",
   "execution_count": 46,
   "metadata": {},
   "outputs": [
    {
     "data": {
      "text/plain": [
       "pandas.core.frame.DataFrame"
      ]
     },
     "execution_count": 46,
     "metadata": {},
     "output_type": "execute_result"
    }
   ],
   "source": [
    "type(df)"
   ]
  },
  {
   "cell_type": "code",
   "execution_count": 47,
   "metadata": {
    "scrolled": true
   },
   "outputs": [
    {
     "data": {
      "text/html": [
       "<div>\n",
       "<style scoped>\n",
       "    .dataframe tbody tr th:only-of-type {\n",
       "        vertical-align: middle;\n",
       "    }\n",
       "\n",
       "    .dataframe tbody tr th {\n",
       "        vertical-align: top;\n",
       "    }\n",
       "\n",
       "    .dataframe thead th {\n",
       "        text-align: right;\n",
       "    }\n",
       "</style>\n",
       "<table border=\"1\" class=\"dataframe\">\n",
       "  <thead>\n",
       "    <tr style=\"text-align: right;\">\n",
       "      <th></th>\n",
       "      <th>0</th>\n",
       "      <th>1</th>\n",
       "      <th>2</th>\n",
       "      <th>3</th>\n",
       "      <th>4</th>\n",
       "    </tr>\n",
       "  </thead>\n",
       "  <tbody>\n",
       "    <tr>\n",
       "      <th>ID_USUARIO</th>\n",
       "      <td>89596</td>\n",
       "      <td>1035823</td>\n",
       "      <td>285840</td>\n",
       "      <td>345075</td>\n",
       "      <td>429112</td>\n",
       "    </tr>\n",
       "    <tr>\n",
       "      <th>ID_FAMILIA_USUARIO</th>\n",
       "      <td>360027</td>\n",
       "      <td>359997</td>\n",
       "      <td>9773</td>\n",
       "      <td>43317</td>\n",
       "      <td>359906</td>\n",
       "    </tr>\n",
       "    <tr>\n",
       "      <th>UNIDADE</th>\n",
       "      <td>CRAS PLANALTINA</td>\n",
       "      <td>CRAS SOBRADINHO</td>\n",
       "      <td>CRAS ITAPOÃ</td>\n",
       "      <td>CRAS GAMA</td>\n",
       "      <td>CRAS SANTA MARIA</td>\n",
       "    </tr>\n",
       "    <tr>\n",
       "      <th>DATA_SOLICITACAO</th>\n",
       "      <td>03/07/2017</td>\n",
       "      <td>03/07/2017</td>\n",
       "      <td>03/07/2017</td>\n",
       "      <td>03/07/2017</td>\n",
       "      <td>03/07/2017</td>\n",
       "    </tr>\n",
       "    <tr>\n",
       "      <th>STATUS DA SOLICITAÇÃO</th>\n",
       "      <td>DEFERIDO</td>\n",
       "      <td>DEFERIDO</td>\n",
       "      <td>DEFERIDO</td>\n",
       "      <td>DEFERIDO</td>\n",
       "      <td>DEFERIDO</td>\n",
       "    </tr>\n",
       "  </tbody>\n",
       "</table>\n",
       "</div>"
      ],
      "text/plain": [
       "                                     0                1            2  \\\n",
       "ID_USUARIO                       89596          1035823       285840   \n",
       "ID_FAMILIA_USUARIO              360027           359997         9773   \n",
       "UNIDADE                CRAS PLANALTINA  CRAS SOBRADINHO  CRAS ITAPOÃ   \n",
       "DATA_SOLICITACAO            03/07/2017       03/07/2017   03/07/2017   \n",
       "STATUS DA SOLICITAÇÃO         DEFERIDO         DEFERIDO     DEFERIDO   \n",
       "\n",
       "                                3                 4  \n",
       "ID_USUARIO                 345075            429112  \n",
       "ID_FAMILIA_USUARIO          43317            359906  \n",
       "UNIDADE                 CRAS GAMA  CRAS SANTA MARIA  \n",
       "DATA_SOLICITACAO       03/07/2017        03/07/2017  \n",
       "STATUS DA SOLICITAÇÃO    DEFERIDO          DEFERIDO  "
      ]
     },
     "execution_count": 47,
     "metadata": {},
     "output_type": "execute_result"
    }
   ],
   "source": [
    "df.head().T"
   ]
  },
  {
   "cell_type": "markdown",
   "metadata": {},
   "source": [
    "## Vamos analisar um pouco esse dataset"
   ]
  },
  {
   "cell_type": "code",
   "execution_count": 48,
   "metadata": {},
   "outputs": [
    {
     "data": {
      "text/plain": [
       "(4051, 5)"
      ]
     },
     "execution_count": 48,
     "metadata": {},
     "output_type": "execute_result"
    }
   ],
   "source": [
    "df.shape"
   ]
  },
  {
   "cell_type": "markdown",
   "metadata": {},
   "source": [
    "###### Olha aí! Temos 4051 linhas e 5 colunas!"
   ]
  },
  {
   "cell_type": "markdown",
   "metadata": {},
   "source": [
    "#### Quais são as colunas?"
   ]
  },
  {
   "cell_type": "code",
   "execution_count": 49,
   "metadata": {},
   "outputs": [
    {
     "data": {
      "text/plain": [
       "Index(['ID_USUARIO', 'ID_FAMILIA_USUARIO', 'UNIDADE', 'DATA_SOLICITACAO',\n",
       "       'STATUS DA SOLICITAÇÃO'],\n",
       "      dtype='object')"
      ]
     },
     "execution_count": 49,
     "metadata": {},
     "output_type": "execute_result"
    }
   ],
   "source": [
    "df.columns"
   ]
  },
  {
   "cell_type": "code",
   "execution_count": 63,
   "metadata": {},
   "outputs": [],
   "source": [
    "a = df['ID_USUARIO'].unique()"
   ]
  },
  {
   "cell_type": "code",
   "execution_count": 65,
   "metadata": {},
   "outputs": [
    {
     "data": {
      "text/plain": [
       "3958"
      ]
     },
     "execution_count": 65,
     "metadata": {},
     "output_type": "execute_result"
    }
   ],
   "source": [
    "size(a)"
   ]
  },
  {
   "cell_type": "markdown",
   "metadata": {},
   "source": [
    "###### Ou seja, temos 3958 usuários únicos em 4051 registros. Assim, temos usuário que fizeram mais de um pedido. Será que eles tiveram mais filhos?"
   ]
  },
  {
   "cell_type": "markdown",
   "metadata": {},
   "source": [
    "## Qual a quantidade de pedidos por status?"
   ]
  },
  {
   "cell_type": "code",
   "execution_count": 14,
   "metadata": {
    "scrolled": true
   },
   "outputs": [
    {
     "data": {
      "text/plain": [
       "DEFERIDO    4051\n",
       "Name: STATUS DA SOLICITAÇÃO, dtype: int64"
      ]
     },
     "execution_count": 14,
     "metadata": {},
     "output_type": "execute_result"
    }
   ],
   "source": [
    "df[u'STATUS DA SOLICITAÇÃO'].value_counts()"
   ]
  },
  {
   "cell_type": "markdown",
   "metadata": {},
   "source": [
    "###### Ou seja, nesse conjunto de dados estão apenas as soliticações de STATUS DEFERIDOS"
   ]
  },
  {
   "cell_type": "markdown",
   "metadata": {},
   "source": [
    "### Qual o número de pedidos de natalidade por UNIDADE?"
   ]
  },
  {
   "cell_type": "code",
   "execution_count": 13,
   "metadata": {
    "scrolled": true
   },
   "outputs": [
    {
     "data": {
      "text/plain": [
       "UNIDADE\n",
       "CREAS NÚCLEO BANDEIRANTE                          1\n",
       "CREAS CEILANDIA                                   1\n",
       "CREAS BRASÍLIA                                    1\n",
       "CREAS Diversidade Sexual, Religiosa e Racial      2\n",
       "CREAS PLANALTINA                                  3\n",
       "CREAS GAMA                                        3\n",
       "CREAS TAGUATINGA                                  4\n",
       "CENTRO POP TAGUATINGA                             4\n",
       "CREAS SOBRADINHO                                  4\n",
       "CENTRO POP BRASÍLIA                               5\n",
       "CREAS SAMAMBAIA                                   6\n",
       "CREAS ESTRUTURAL                                  6\n",
       "CREAS BRAZLÂNDIA                                 10\n",
       "CRAS BRASÍLIA                                    29\n",
       "CRAS CANDANGOLANDIA                              39\n",
       "CRAS NUCLEO BANDEIRANTE                          50\n",
       "CRAS FERCAL                                      51\n",
       "CRAS GUARA                                       53\n",
       "CRAS VARJÃO                                      65\n",
       "CRAS AREAL                                       85\n",
       "CRAS SAMAMBAIA EXPANSÃO                          88\n",
       "CRAS SOBRADINHO II                              107\n",
       "CRAS SOBRADINHO                                 111\n",
       "CRAS RIACHO FUNDO I                             115\n",
       "CRAS RIACHO FUNDO II                            119\n",
       "CRAS CEILANDIA SUL                              124\n",
       "CRAS PARANOÁ                                    124\n",
       "CRAS TAGUATINGA NORTE                           138\n",
       "CRAS GAMA                                       153\n",
       "CRAS SAO SEBASTIÃO                              155\n",
       "CRAS ESTRUTURAL                                 164\n",
       "CRAS SANTA MARIA                                180\n",
       "CRAS ARAPOANGA                                  192\n",
       "CRAS ITAPOÃ                                     195\n",
       "CRAS BRAZLÂNDIA                                 197\n",
       "CRAS P SUL                                      260\n",
       "CRAS RECANTO DAS EMAS                           261\n",
       "CRAS CEILANDIA NORTE                            266\n",
       "CRAS PLANALTINA                                 300\n",
       "CRAS SAMAMBAIA SUL                              380\n",
       "Name: UNIDADE, dtype: int64"
      ]
     },
     "execution_count": 13,
     "metadata": {},
     "output_type": "execute_result"
    }
   ],
   "source": [
    "df.groupby('UNIDADE')['UNIDADE'].count().sort_values()"
   ]
  },
  {
   "cell_type": "markdown",
   "metadata": {},
   "source": [
    "#### CRAS SAMAMBAIA SUL teve o maior número de pedidos"
   ]
  },
  {
   "cell_type": "markdown",
   "metadata": {},
   "source": [
    "## Investigando se um usuário fez mais de um pedido de auxilio natalidade:"
   ]
  },
  {
   "cell_type": "code",
   "execution_count": 66,
   "metadata": {
    "scrolled": true
   },
   "outputs": [
    {
     "data": {
      "text/plain": [
       "629643     3\n",
       "437433     3\n",
       "840743     3\n",
       "1055587    3\n",
       "1040065    2\n",
       "          ..\n",
       "931128     1\n",
       "17718      1\n",
       "128308     1\n",
       "109875     1\n",
       "925696     1\n",
       "Name: ID_USUARIO, Length: 3958, dtype: int64"
      ]
     },
     "execution_count": 66,
     "metadata": {},
     "output_type": "execute_result"
    }
   ],
   "source": [
    "df[u'ID_USUARIO'].value_counts()"
   ]
  },
  {
   "cell_type": "markdown",
   "metadata": {},
   "source": [
    "---"
   ]
  },
  {
   "cell_type": "code",
   "execution_count": 69,
   "metadata": {},
   "outputs": [
    {
     "data": {
      "text/plain": [
       "(4051, 5)"
      ]
     },
     "execution_count": 69,
     "metadata": {},
     "output_type": "execute_result"
    }
   ],
   "source": [
    "df.shape"
   ]
  },
  {
   "cell_type": "code",
   "execution_count": 72,
   "metadata": {},
   "outputs": [
    {
     "data": {
      "text/html": [
       "<div>\n",
       "<style scoped>\n",
       "    .dataframe tbody tr th:only-of-type {\n",
       "        vertical-align: middle;\n",
       "    }\n",
       "\n",
       "    .dataframe tbody tr th {\n",
       "        vertical-align: top;\n",
       "    }\n",
       "\n",
       "    .dataframe thead th {\n",
       "        text-align: right;\n",
       "    }\n",
       "</style>\n",
       "<table border=\"1\" class=\"dataframe\">\n",
       "  <thead>\n",
       "    <tr style=\"text-align: right;\">\n",
       "      <th></th>\n",
       "      <th>0</th>\n",
       "      <th>1</th>\n",
       "      <th>2</th>\n",
       "      <th>3</th>\n",
       "      <th>4</th>\n",
       "    </tr>\n",
       "  </thead>\n",
       "  <tbody>\n",
       "    <tr>\n",
       "      <th>ID_USUARIO</th>\n",
       "      <td>89596</td>\n",
       "      <td>1035823</td>\n",
       "      <td>285840</td>\n",
       "      <td>345075</td>\n",
       "      <td>429112</td>\n",
       "    </tr>\n",
       "    <tr>\n",
       "      <th>ID_FAMILIA_USUARIO</th>\n",
       "      <td>360027</td>\n",
       "      <td>359997</td>\n",
       "      <td>9773</td>\n",
       "      <td>43317</td>\n",
       "      <td>359906</td>\n",
       "    </tr>\n",
       "    <tr>\n",
       "      <th>UNIDADE</th>\n",
       "      <td>CRAS PLANALTINA</td>\n",
       "      <td>CRAS SOBRADINHO</td>\n",
       "      <td>CRAS ITAPOÃ</td>\n",
       "      <td>CRAS GAMA</td>\n",
       "      <td>CRAS SANTA MARIA</td>\n",
       "    </tr>\n",
       "    <tr>\n",
       "      <th>DATA_SOLICITACAO</th>\n",
       "      <td>03/07/2017</td>\n",
       "      <td>03/07/2017</td>\n",
       "      <td>03/07/2017</td>\n",
       "      <td>03/07/2017</td>\n",
       "      <td>03/07/2017</td>\n",
       "    </tr>\n",
       "    <tr>\n",
       "      <th>STATUS DA SOLICITAÇÃO</th>\n",
       "      <td>DEFERIDO</td>\n",
       "      <td>DEFERIDO</td>\n",
       "      <td>DEFERIDO</td>\n",
       "      <td>DEFERIDO</td>\n",
       "      <td>DEFERIDO</td>\n",
       "    </tr>\n",
       "  </tbody>\n",
       "</table>\n",
       "</div>"
      ],
      "text/plain": [
       "                                     0                1            2  \\\n",
       "ID_USUARIO                       89596          1035823       285840   \n",
       "ID_FAMILIA_USUARIO              360027           359997         9773   \n",
       "UNIDADE                CRAS PLANALTINA  CRAS SOBRADINHO  CRAS ITAPOÃ   \n",
       "DATA_SOLICITACAO            03/07/2017       03/07/2017   03/07/2017   \n",
       "STATUS DA SOLICITAÇÃO         DEFERIDO         DEFERIDO     DEFERIDO   \n",
       "\n",
       "                                3                 4  \n",
       "ID_USUARIO                 345075            429112  \n",
       "ID_FAMILIA_USUARIO          43317            359906  \n",
       "UNIDADE                 CRAS GAMA  CRAS SANTA MARIA  \n",
       "DATA_SOLICITACAO       03/07/2017        03/07/2017  \n",
       "STATUS DA SOLICITAÇÃO    DEFERIDO          DEFERIDO  "
      ]
     },
     "execution_count": 72,
     "metadata": {},
     "output_type": "execute_result"
    }
   ],
   "source": [
    "df.head().T"
   ]
  },
  {
   "cell_type": "markdown",
   "metadata": {},
   "source": [
    "#### Quantas famílias fizeram pedidos?"
   ]
  },
  {
   "cell_type": "code",
   "execution_count": 74,
   "metadata": {},
   "outputs": [
    {
     "data": {
      "text/plain": [
       "3949"
      ]
     },
     "execution_count": 74,
     "metadata": {},
     "output_type": "execute_result"
    }
   ],
   "source": [
    "size(df['ID_FAMILIA_USUARIO'].unique())"
   ]
  },
  {
   "cell_type": "markdown",
   "metadata": {},
   "source": [
    "#### São:\n",
    "#### 3949 familias\n",
    "#### 3958 usuários\n",
    "#### 4051 pedidos\n",
    "\n",
    "Então devemos ter repetição de usuários e familias fazendo pedidos.\n"
   ]
  },
  {
   "cell_type": "markdown",
   "metadata": {},
   "source": [
    "# Importante >> Converti para string pois esse numeros nao podem ser tratados como numeros"
   ]
  },
  {
   "cell_type": "code",
   "execution_count": 82,
   "metadata": {},
   "outputs": [],
   "source": [
    "df['STR_ID_FAMILIA_USUARIO'] = df['ID_FAMILIA_USUARIO'].apply(str)\n",
    "df['STR_ID_USUARIO'] = df['ID_USUARIO'].apply(str)"
   ]
  },
  {
   "cell_type": "code",
   "execution_count": 83,
   "metadata": {},
   "outputs": [
    {
     "data": {
      "text/plain": [
       "count       4051\n",
       "unique      3949\n",
       "top       373840\n",
       "freq           3\n",
       "Name: STR_ID_FAMILIA_USUARIO, dtype: object"
      ]
     },
     "execution_count": 83,
     "metadata": {},
     "output_type": "execute_result"
    }
   ],
   "source": [
    "df['STR_ID_FAMILIA_USUARIO'].describe()"
   ]
  },
  {
   "cell_type": "code",
   "execution_count": 84,
   "metadata": {},
   "outputs": [
    {
     "data": {
      "text/plain": [
       "count       4051\n",
       "unique      3958\n",
       "top       840743\n",
       "freq           3\n",
       "Name: STR_ID_USUARIO, dtype: object"
      ]
     },
     "execution_count": 84,
     "metadata": {},
     "output_type": "execute_result"
    }
   ],
   "source": [
    "df['STR_ID_USUARIO'].describe()"
   ]
  },
  {
   "cell_type": "code",
   "execution_count": 86,
   "metadata": {},
   "outputs": [],
   "source": [
    "a = df.groupby('STR_ID_USUARIO')"
   ]
  },
  {
   "cell_type": "code",
   "execution_count": 97,
   "metadata": {},
   "outputs": [
    {
     "data": {
      "text/plain": [
       "840743      True\n",
       "629643      True\n",
       "1055587     True\n",
       "437433      True\n",
       "1036575     True\n",
       "           ...  \n",
       "570473     False\n",
       "62969      False\n",
       "1046608    False\n",
       "453445     False\n",
       "1050901    False\n",
       "Name: STR_ID_USUARIO, Length: 3958, dtype: bool"
      ]
     },
     "execution_count": 97,
     "metadata": {},
     "output_type": "execute_result"
    }
   ],
   "source": [
    "df['STR_ID_USUARIO'].value_counts() > 1"
   ]
  },
  {
   "cell_type": "code",
   "execution_count": null,
   "metadata": {},
   "outputs": [],
   "source": []
  }
 ],
 "metadata": {
  "kernelspec": {
   "display_name": "Python 3",
   "language": "python",
   "name": "python3"
  },
  "language_info": {
   "codemirror_mode": {
    "name": "ipython",
    "version": 3
   },
   "file_extension": ".py",
   "mimetype": "text/x-python",
   "name": "python",
   "nbconvert_exporter": "python",
   "pygments_lexer": "ipython3",
   "version": "3.7.3"
  }
 },
 "nbformat": 4,
 "nbformat_minor": 4
}
