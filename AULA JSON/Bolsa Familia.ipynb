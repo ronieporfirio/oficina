{
 "cells": [
  {
   "cell_type": "code",
   "execution_count": 3,
   "metadata": {},
   "outputs": [],
   "source": [
    "from urllib.request import Request, urlopen\n",
    "import numpy as np\n",
    "import pandas as pd\n",
    "import datetime\n",
    "import json\n",
    "import math\n",
    "\n",
    "siteApi = 'http://www.transparencia.gov.br/api-de-dados'\n",
    "\n",
    "\n",
    "\n",
    "def getJsonData(strMesAno,strCodIBGE,numPag):\n",
    "    method='bolsa-familia-por-municipio?mesAno={0}&codigoIbge={1}&pagina={2}'.format(strMesAno,strCodIBGE,numPag)\n",
    "    req = Request(siteApi + '/' + method, headers={'User-Agent': 'Mozilla/5.0'})\n",
    "    JSON = urlopen(req).read()\n",
    "    return json.loads(JSON)\n"
   ]
  },
  {
   "cell_type": "code",
   "execution_count": 8,
   "metadata": {},
   "outputs": [],
   "source": [
    "jsonData = getJsonData('201801','3500105',1)"
   ]
  },
  {
   "cell_type": "code",
   "execution_count": 10,
   "metadata": {},
   "outputs": [
    {
     "data": {
      "text/plain": [
       "[{'id': 73310069,\n",
       "  'dataReferencia': '01/01/2018',\n",
       "  'municipio': {'codigoIBGE': '3500105',\n",
       "   'nomeIBGE': 'ADAMANTINA',\n",
       "   'nomeIBGEsemAcento': 'ADAMANTINA',\n",
       "   'pais': 'BRASIL',\n",
       "   'uf': {'sigla': 'SP', 'nome': 'SÃO PAULO'}},\n",
       "  'tipo': {'id': 1,\n",
       "   'descricao': 'Bolsa Família',\n",
       "   'descricaoDetalhada': 'Bolsa Família'},\n",
       "  'valor': 34905.0,\n",
       "  'quantidadeBeneficiados': 291}]"
      ]
     },
     "execution_count": 10,
     "metadata": {},
     "output_type": "execute_result"
    }
   ],
   "source": [
    "jsonData"
   ]
  },
  {
   "cell_type": "markdown",
   "metadata": {},
   "source": [
    "# Brasilia\n",
    "\n",
    "Código IBGE é 5300108\n",
    "https://cidades.ibge.gov.br/brasil/df/brasilia/panorama"
   ]
  },
  {
   "cell_type": "code",
   "execution_count": 13,
   "metadata": {},
   "outputs": [],
   "source": [
    "jsonBrasilia = getJsonData('201802','5300108',1)"
   ]
  },
  {
   "cell_type": "code",
   "execution_count": 14,
   "metadata": {},
   "outputs": [
    {
     "data": {
      "text/plain": [
       "[{'id': 66707529,\n",
       "  'dataReferencia': '01/02/2018',\n",
       "  'municipio': {'codigoIBGE': '5300108',\n",
       "   'nomeIBGE': 'BRASÍLIA',\n",
       "   'nomeIBGEsemAcento': 'BRASILIA',\n",
       "   'pais': 'BRASIL',\n",
       "   'uf': {'sigla': 'DF', 'nome': 'DISTRITO FEDERAL'}},\n",
       "  'tipo': {'id': 1,\n",
       "   'descricao': 'Bolsa Família',\n",
       "   'descricaoDetalhada': 'Bolsa Família'},\n",
       "  'valor': 13214312.0,\n",
       "  'quantidadeBeneficiados': 81831}]"
      ]
     },
     "execution_count": 14,
     "metadata": {},
     "output_type": "execute_result"
    }
   ],
   "source": [
    "jsonBrasilia"
   ]
  }
 ],
 "metadata": {
  "kernelspec": {
   "display_name": "Python 3",
   "language": "python",
   "name": "python3"
  },
  "language_info": {
   "codemirror_mode": {
    "name": "ipython",
    "version": 3
   },
   "file_extension": ".py",
   "mimetype": "text/x-python",
   "name": "python",
   "nbconvert_exporter": "python",
   "pygments_lexer": "ipython3",
   "version": "3.7.3"
  }
 },
 "nbformat": 4,
 "nbformat_minor": 4
}
