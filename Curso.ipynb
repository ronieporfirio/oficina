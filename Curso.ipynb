{
 "cells": [
  {
   "cell_type": "markdown",
   "metadata": {},
   "source": [
    "![alt text](fig/logoLEFT.png \"CLDF\") | CÂMARA LEGISLATIVA DO DISTRITO FEDERAL | ![alt text](fig/logoRIGHT.png \"CLDF\")\n",
    "--- | :---: | ---\n",
    "| **COORDENADORIA DE MODERNIZAÇÃO E INFORMÁTICA - CMI** | \n",
    "| **OFICINAS ASI/LABHINOVA** | \n",
    "| **ANÁLISE EXPLORATÓRIA DE DADOS ABERTOS USANDO PYTHON** | \n",
    "\n",
    "\n"
   ]
  },
  {
   "cell_type": "markdown",
   "metadata": {},
   "source": [
    "## Esse é um exemplo do formato proposto para a etapa prática do curso!\n",
    "\n",
    "## Vamos lá!"
   ]
  },
  {
   "cell_type": "markdown",
   "metadata": {},
   "source": [
    "# Exercício 1\n",
    "\n",
    "## Comparar o gasto com o programa bolsa família entre diversos municípios"
   ]
  },
  {
   "cell_type": "markdown",
   "metadata": {},
   "source": [
    "## 1 - Importar Bibliotecas"
   ]
  },
  {
   "cell_type": "code",
   "execution_count": 19,
   "metadata": {},
   "outputs": [],
   "source": [
    "from urllib.request import Request, urlopen\n",
    "import numpy as np\n",
    "import pandas as pd\n",
    "import datetime\n",
    "import json\n",
    "import math"
   ]
  },
  {
   "cell_type": "markdown",
   "metadata": {},
   "source": [
    "## 2 - Qual a fonte de dados? Vamos usar a API de dados do Portal da Transparência!"
   ]
  },
  {
   "cell_type": "code",
   "execution_count": 13,
   "metadata": {},
   "outputs": [],
   "source": [
    "siteApi = 'http://www.transparencia.gov.br/api-de-dados'"
   ]
  },
  {
   "cell_type": "markdown",
   "metadata": {},
   "source": [
    "### Vamos escrever uma função para pegar esses dados:"
   ]
  },
  {
   "cell_type": "code",
   "execution_count": 15,
   "metadata": {},
   "outputs": [],
   "source": [
    "def getData(method='bolsa-familia-por-municipio?mesAno=201801&codigoIbge=3500105&pagina=1'):\n",
    "    \"Get data of method\"\n",
    "    req = Request(siteApi + '/' + method, headers={'User-Agent': 'Mozilla/5.0'})\n",
    "    JSON = urlopen(req).read()\n",
    "    return json.loads(JSON)\n"
   ]
  },
  {
   "cell_type": "markdown",
   "metadata": {},
   "source": [
    "### Agora vamos testar para ver se essa função funciona."
   ]
  },
  {
   "cell_type": "code",
   "execution_count": 16,
   "metadata": {},
   "outputs": [
    {
     "name": "stdout",
     "output_type": "stream",
     "text": [
      "[{'id': 73310069, 'dataReferencia': '01/01/2018', 'municipio': {'codigoIBGE': '3500105', 'nomeIBGE': 'ADAMANTINA', 'nomeIBGEsemAcento': 'ADAMANTINA', 'pais': 'BRASIL', 'uf': {'sigla': 'SP', 'nome': 'SÃO PAULO'}}, 'tipo': {'id': 1, 'descricao': 'Bolsa Família', 'descricaoDetalhada': 'Bolsa Família'}, 'valor': 34905.0, 'quantidadeBeneficiados': 291}]\n"
     ]
    }
   ],
   "source": [
    "dados = getData()\n",
    "print(dados)"
   ]
  },
  {
   "cell_type": "markdown",
   "metadata": {},
   "source": [
    "### Legal! Funcionou! Mas podemos melhorar usando a biblioteca pandas!"
   ]
  },
  {
   "cell_type": "code",
   "execution_count": 20,
   "metadata": {},
   "outputs": [],
   "source": [
    "df = pd.DataFrame(dados)"
   ]
  },
  {
   "cell_type": "code",
   "execution_count": 23,
   "metadata": {},
   "outputs": [
    {
     "data": {
      "text/html": [
       "<div>\n",
       "<style scoped>\n",
       "    .dataframe tbody tr th:only-of-type {\n",
       "        vertical-align: middle;\n",
       "    }\n",
       "\n",
       "    .dataframe tbody tr th {\n",
       "        vertical-align: top;\n",
       "    }\n",
       "\n",
       "    .dataframe thead th {\n",
       "        text-align: right;\n",
       "    }\n",
       "</style>\n",
       "<table border=\"1\" class=\"dataframe\">\n",
       "  <thead>\n",
       "    <tr style=\"text-align: right;\">\n",
       "      <th></th>\n",
       "      <th>id</th>\n",
       "      <th>dataReferencia</th>\n",
       "      <th>municipio</th>\n",
       "      <th>tipo</th>\n",
       "      <th>valor</th>\n",
       "      <th>quantidadeBeneficiados</th>\n",
       "    </tr>\n",
       "  </thead>\n",
       "  <tbody>\n",
       "    <tr>\n",
       "      <th>0</th>\n",
       "      <td>73310069</td>\n",
       "      <td>01/01/2018</td>\n",
       "      <td>{'codigoIBGE': '3500105', 'nomeIBGE': 'ADAMANT...</td>\n",
       "      <td>{'id': 1, 'descricao': 'Bolsa Família', 'descr...</td>\n",
       "      <td>34905.0</td>\n",
       "      <td>291</td>\n",
       "    </tr>\n",
       "  </tbody>\n",
       "</table>\n",
       "</div>"
      ],
      "text/plain": [
       "         id dataReferencia                                          municipio  \\\n",
       "0  73310069     01/01/2018  {'codigoIBGE': '3500105', 'nomeIBGE': 'ADAMANT...   \n",
       "\n",
       "                                                tipo    valor  \\\n",
       "0  {'id': 1, 'descricao': 'Bolsa Família', 'descr...  34905.0   \n",
       "\n",
       "   quantidadeBeneficiados  \n",
       "0                     291  "
      ]
     },
     "execution_count": 23,
     "metadata": {},
     "output_type": "execute_result"
    }
   ],
   "source": [
    "df.head()"
   ]
  },
  {
   "cell_type": "markdown",
   "metadata": {},
   "source": [
    "## Muito melhor agora! Mas o que queremos? Queremos o campo valor!"
   ]
  },
  {
   "cell_type": "code",
   "execution_count": 31,
   "metadata": {},
   "outputs": [
    {
     "name": "stdout",
     "output_type": "stream",
     "text": [
      "0    34905.0\n",
      "Name: valor, dtype: float64\n"
     ]
    }
   ],
   "source": [
    "print(df['valor'])"
   ]
  },
  {
   "cell_type": "markdown",
   "metadata": {},
   "source": [
    "#### Legal! Temos o valor gasto com o Bolsa Familia no municío de Adamantina do Estado de São Paulo no ano de 2018."
   ]
  },
  {
   "cell_type": "markdown",
   "metadata": {},
   "source": [
    "## Vamos continuar com a análise..."
   ]
  }
 ],
 "metadata": {
  "kernelspec": {
   "display_name": "Python 3",
   "language": "python",
   "name": "python3"
  },
  "language_info": {
   "codemirror_mode": {
    "name": "ipython",
    "version": 3
   },
   "file_extension": ".py",
   "mimetype": "text/x-python",
   "name": "python",
   "nbconvert_exporter": "python",
   "pygments_lexer": "ipython3",
   "version": "3.7.3"
  }
 },
 "nbformat": 4,
 "nbformat_minor": 4
}
